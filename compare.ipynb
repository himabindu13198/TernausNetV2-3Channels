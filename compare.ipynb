{
 "cells": [
  {
   "cell_type": "code",
   "execution_count": 1,
   "metadata": {},
   "outputs": [],
   "source": [
    "import sys\n",
    "\n",
    "from scipy.misc import imread\n",
    "from scipy.linalg import norm\n",
    "from scipy import sum, average\n"
   ]
  },
  {
   "cell_type": "code",
   "execution_count": 2,
   "metadata": {},
   "outputs": [],
   "source": [
    "def compare_images(img1, img2):\n",
    "    # normalize to compensate for exposure difference\n",
    "    img1 = normalize(img1)\n",
    "    img2 = normalize(img2)\n",
    "    # calculate the difference and its norms\n",
    "    diff = img1 - img2  # elementwise for scipy arrays\n",
    "    m_norm = sum(abs(diff))  # Manhattan norm\n",
    "    z_norm = norm(diff.ravel(), 0)  # Zero norm\n",
    "    return (m_norm, z_norm)"
   ]
  },
  {
   "cell_type": "code",
   "execution_count": 3,
   "metadata": {},
   "outputs": [],
   "source": [
    "def to_grayscale(arr):\n",
    "    \"If arr is a color image (3D array), convert it to grayscale (2D array).\"\n",
    "    if len(arr.shape) == 3:\n",
    "        return average(arr, -1)  # average over the last axis (color channels)\n",
    "    else:\n",
    "        return arr"
   ]
  },
  {
   "cell_type": "code",
   "execution_count": 4,
   "metadata": {},
   "outputs": [],
   "source": [
    "def normalize(arr):\n",
    "    rng = arr.max()-arr.min()\n",
    "    amin = arr.min()\n",
    "    return (arr-amin)*255/rng"
   ]
  },
  {
   "cell_type": "code",
   "execution_count": 6,
   "metadata": {},
   "outputs": [
    {
     "name": "stdout",
     "output_type": "stream",
     "text": [
      "Aggregate: 85861653.42131081 Pixel by pixel difference: 203.22284833446346\n"
     ]
    },
    {
     "name": "stderr",
     "output_type": "stream",
     "text": [
      "/opt/anaconda3/lib/python3.6/site-packages/ipykernel_launcher.py:5: DeprecationWarning: `imread` is deprecated!\n",
      "`imread` is deprecated in SciPy 1.0.0, and will be removed in 1.2.0.\n",
      "Use ``imageio.imread`` instead.\n",
      "  \"\"\"\n",
      "/opt/anaconda3/lib/python3.6/site-packages/ipykernel_launcher.py:6: DeprecationWarning: `imread` is deprecated!\n",
      "`imread` is deprecated in SciPy 1.0.0, and will be removed in 1.2.0.\n",
      "Use ``imageio.imread`` instead.\n",
      "  \n"
     ]
    }
   ],
   "source": [
    "# print(\"hey\")\n",
    "file1 = \"output/kochi/pre/img7.png\"\n",
    "file2 = \"output/kochi/post/img7.jpg\"\n",
    "# read images as 2D arrays (convert to grayscale for simplicity)\n",
    "img1 = to_grayscale(imread(file1).astype(float))\n",
    "img2 = to_grayscale(imread(file2).astype(float))\n",
    "# compare\n",
    "n_m, n_0 = compare_images(img1, img2)\n",
    "print(\"Aggregate:\", n_m, \"Pixel by pixel difference:\", n_m/img1.size)\n",
    "# print(\"Zero norm:\", n_0, \"/ per pixel:\", n_0*1.0/img1.size)\n"
   ]
  },
  {
   "cell_type": "code",
   "execution_count": null,
   "metadata": {},
   "outputs": [],
   "source": []
  }
 ],
 "metadata": {
  "kernelspec": {
   "display_name": "Python 3",
   "language": "python",
   "name": "python3"
  },
  "language_info": {
   "codemirror_mode": {
    "name": "ipython",
    "version": 3
   },
   "file_extension": ".py",
   "mimetype": "text/x-python",
   "name": "python",
   "nbconvert_exporter": "python",
   "pygments_lexer": "ipython3",
   "version": "3.6.8"
  }
 },
 "nbformat": 4,
 "nbformat_minor": 2
}
